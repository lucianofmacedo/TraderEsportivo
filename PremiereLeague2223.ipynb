{
  "nbformat": 4,
  "nbformat_minor": 0,
  "metadata": {
    "colab": {
      "provenance": [],
      "private_outputs": true,
      "include_colab_link": true
    },
    "kernelspec": {
      "name": "python3",
      "display_name": "Python 3"
    },
    "language_info": {
      "name": "python"
    }
  },
  "cells": [
    {
      "cell_type": "markdown",
      "metadata": {
        "id": "view-in-github",
        "colab_type": "text"
      },
      "source": [
        "<a href=\"https://colab.research.google.com/github/lucianofmacedo/TraderEsportivo/blob/main/PremiereLeague2223.ipynb\" target=\"_parent\"><img src=\"https://colab.research.google.com/assets/colab-badge.svg\" alt=\"Open In Colab\"/></a>"
      ]
    },
    {
      "cell_type": "markdown",
      "source": [
        "Importando as Bibliotecas"
      ],
      "metadata": {
        "id": "xyYUhk6remR9"
      }
    },
    {
      "cell_type": "code",
      "execution_count": null,
      "metadata": {
        "id": "bknPLhIHeKs1"
      },
      "outputs": [],
      "source": [
        "import pandas as pd"
      ]
    },
    {
      "cell_type": "markdown",
      "source": [
        "Coletando a planilha da temporada Atual da Premier League"
      ],
      "metadata": {
        "id": "vZ-Bb6N-eo-H"
      }
    },
    {
      "cell_type": "code",
      "source": [
        "df = pd.read_csv(\"https://www.football-data.co.uk/mmz4281/2223/E0.csv\")"
      ],
      "metadata": {
        "id": "TQQpHVhVex3O"
      },
      "execution_count": null,
      "outputs": []
    },
    {
      "cell_type": "markdown",
      "source": [
        "Visualizando o arquivo gerado"
      ],
      "metadata": {
        "id": "nddKL7k1gWcQ"
      }
    },
    {
      "cell_type": "code",
      "source": [
        "df"
      ],
      "metadata": {
        "id": "jdCPQN1DtmFu"
      },
      "execution_count": null,
      "outputs": []
    },
    {
      "cell_type": "markdown",
      "source": [
        "Selecionando as colunas que serão utilizadas"
      ],
      "metadata": {
        "id": "MYdoxjhPe2sq"
      }
    },
    {
      "cell_type": "code",
      "source": [
        "df = df[['Div','Date','Time','HomeTeam','AwayTeam','FTHG','FTAG','FTR','HTHG','HTAG','Referee','HS','AS','HST','AST','HF','AF','HC','AC','HY','AY','HR','AR','B365H','B365D','B365A','PSH','PSD','PSA','B365>2.5','B365<2.5','P>2.5','P<2.5','B365AHH','B365AHA','PAHH','PAHA']]"
      ],
      "metadata": {
        "id": "3JQRytp9fA65"
      },
      "execution_count": null,
      "outputs": []
    },
    {
      "cell_type": "markdown",
      "source": [
        "Renomenando as colunas"
      ],
      "metadata": {
        "id": "SE5mmJBGe8vA"
      }
    },
    {
      "cell_type": "code",
      "source": [
        "df.columns = ['Premiere League','Data','Horário','Mandante','Visitante','Gols Mandante no FT','Gols Visitante no FT','Resultado Final','Gols Mandante no HT','Gols Visitante no HT','Juiz','Finalizações Mandante','Finalizações Visitante','Chutes no Gol Mandante','Chutes no Gol Visitante','Faltas Mandante','Faltas Visitantes','Cantos Mandante',\n",
        "'Cantos Visitante','Cartão Amarelo Mandante','Cartão Amarelo Visitante','Cartão Vermelho Mandante','Cartão Vermelho Visitante','ODD Mandante Bet365','ODD Empate Bet365','ODD Visitante Bet365','ODD Mandante Pinaccle','ODD Empate Pinaccle','ODD Visitante Pinaccle','ODD over 2,5 Bet365','ODD under 2,5 Bet365','ODD over 2,5 Pinaccle','ODD under 2,5 Pinaccle','Handicap asiático mandante Bet365','Handicap asiático visitante Bet365','Handicap asiático mandante Pinaccle','Handicap asiático visitante Pinaccle']"
      ],
      "metadata": {
        "id": "J7dJv1qcfIO1"
      },
      "execution_count": null,
      "outputs": []
    },
    {
      "cell_type": "markdown",
      "source": [
        "Visualizando o Resultado Final"
      ],
      "metadata": {
        "id": "HztQDswvgus2"
      }
    },
    {
      "cell_type": "code",
      "source": [
        "df"
      ],
      "metadata": {
        "id": "JHhhNPsbtqZ4"
      },
      "execution_count": null,
      "outputs": []
    },
    {
      "cell_type": "markdown",
      "source": [
        "Exportando arquivo inicial para o Excel"
      ],
      "metadata": {
        "id": "GWw7Z239fOZZ"
      }
    },
    {
      "cell_type": "code",
      "source": [
        "df.to_excel(\"PremierLeague.xlsx\")"
      ],
      "metadata": {
        "id": "VKAW7L5OfRuQ"
      },
      "execution_count": null,
      "outputs": []
    }
  ]
}